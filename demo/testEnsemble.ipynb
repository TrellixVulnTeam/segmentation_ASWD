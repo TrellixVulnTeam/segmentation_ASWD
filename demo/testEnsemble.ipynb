{
 "cells": [
  {
   "cell_type": "code",
   "execution_count": 1,
   "metadata": {},
   "outputs": [],
   "source": [
    "from mmseg.apis import init_segmentor, inference_segmentor"
   ]
  },
  {
   "cell_type": "code",
   "execution_count": 2,
   "metadata": {},
   "outputs": [
    {
     "name": "stderr",
     "output_type": "stream",
     "text": [
      "/home/sakon/workspace/segmentation/Ensemble/mmseg/models/builder.py:59: UserWarning: train_cfg and test_cfg is deprecated, please specify them in model\n",
      "  warnings.warn(\n"
     ]
    },
    {
     "name": "stdout",
     "output_type": "stream",
     "text": [
      "load pre-trained weight from imagenet21k\n",
      "load checkpoint from local path: /home/sakon/workspace/segmentation/Ensemble/checkpoints/SETR_MLA/iter_80000.pth\n"
     ]
    }
   ],
   "source": [
    "SETR_MLA_config = '/home/sakon/workspace/segmentation/Ensemble/configs/SETR_MLA_768x768_80k_base.py'\n",
    "SETR_MLA_checkpoint = '/home/sakon/workspace/segmentation/Ensemble/checkpoints/SETR_MLA/iter_80000.pth'\n",
    "SETR_MLA = init_segmentor(SETR_MLA_config,SETR_MLA_checkpoint)"
   ]
  },
  {
   "cell_type": "code",
   "execution_count": null,
   "metadata": {},
   "outputs": [],
   "source": [
    "SeMask_config = ''\n",
    "SeMask_checkpoint = ''\n",
    "SeMask = init_segmentor(SeMask_config,SeMask_checkpoint)"
   ]
  }
 ],
 "metadata": {
  "interpreter": {
   "hash": "3c4665c42c978b1300c19665abffaba561a7e60554f52c71c3c2bfe85d57ad9c"
  },
  "kernelspec": {
   "display_name": "Python 3.8.13 ('testensemble')",
   "language": "python",
   "name": "python3"
  },
  "language_info": {
   "codemirror_mode": {
    "name": "ipython",
    "version": 3
   },
   "file_extension": ".py",
   "mimetype": "text/x-python",
   "name": "python",
   "nbconvert_exporter": "python",
   "pygments_lexer": "ipython3",
   "version": "3.8.13"
  },
  "orig_nbformat": 4
 },
 "nbformat": 4,
 "nbformat_minor": 2
}
